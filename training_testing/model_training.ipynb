{
 "cells": [
  {
   "cell_type": "code",
   "execution_count": 1,
   "metadata": {},
   "outputs": [],
   "source": [
    "import pandas as pd\n",
    "import numpy as np\n",
    "from features import create, h2h_acessor"
   ]
  },
  {
   "cell_type": "code",
   "execution_count": null,
   "metadata": {},
   "outputs": [],
   "source": [
    "df = pd.read_csv(r'training_testing/dados/dados_eventos.csv')\n",
    "df['date'] = pd.to_datetime(df['date'])\n",
    "df.drop_duplicates()\n",
    "df.sort_values(by='date')\n",
    "df.info()"
   ]
  },
  {
   "cell_type": "code",
   "execution_count": 3,
   "metadata": {},
   "outputs": [],
   "source": [
    "df = df.rename(columns= {\n",
    "    'jogador_casa': 'home_player',\n",
    "    'jogador_fora': 'away_player',\n",
    "    'time_casa': 'home_team',\n",
    "    'time_fora': 'away_team',\n",
    "    'gols_casa': 'home_score',\n",
    "    'gols_fora': 'away_score',\n",
    "    'gols_totais': 'total_score',})"
   ]
  },
  {
   "cell_type": "code",
   "execution_count": 4,
   "metadata": {},
   "outputs": [],
   "source": [
    "train_size = int(0.7 * len(df))\n",
    "test_size = int(0.2 * len(df))\n",
    "train_df = df.iloc[:train_size]\n",
    "test_df = df.iloc[train_size:train_size + test_size]\n",
    "val_df = df.iloc[train_size + test_size:]"
   ]
  },
  {
   "cell_type": "code",
   "execution_count": 5,
   "metadata": {},
   "outputs": [],
   "source": [
    "train_featured = create.features(\n",
    "    data=train_df,live=False\n",
    "    ).dropna()\n",
    "\n",
    "test_featured = create.features(\n",
    "    data=test_df, live=False, \n",
    "    lookback_data=train_df\n",
    "    ).dropna()\n",
    "\n",
    "val_featured = create.features(\n",
    "    data=val_df, live=False, \n",
    "    lookback_data=pd.concat(\n",
    "        [train_df, test_df])\n",
    "        ).dropna()"
   ]
  },
  {
   "cell_type": "code",
   "execution_count": null,
   "metadata": {},
   "outputs": [],
   "source": [
    "val_featured.tail(5)"
   ]
  },
  {
   "cell_type": "code",
   "execution_count": null,
   "metadata": {},
   "outputs": [],
   "source": [
    "val_df.tail(5)"
   ]
  },
  {
   "cell_type": "code",
   "execution_count": 8,
   "metadata": {},
   "outputs": [],
   "source": [
    "from features.required import REQUIRED_FEATURES\n",
    "\n",
    "train_X = train_featured[REQUIRED_FEATURES]\n",
    "train_y = train_featured['total_score']\n",
    "\n",
    "test_X = test_featured[REQUIRED_FEATURES]\n",
    "test_y = test_featured['total_score']\n",
    "\n",
    "val_X = val_featured[REQUIRED_FEATURES]\n",
    "val_y = val_featured['total_score']"
   ]
  },
  {
   "cell_type": "code",
   "execution_count": null,
   "metadata": {},
   "outputs": [],
   "source": [
    "from model.config import grid_search\n",
    "from xgboost import XGBRegressor\n",
    "from sklearn.metrics import mean_absolute_error, mean_squared_error\n",
    "from model import calculate\n",
    "\n",
    "grid_search.fit(train_X, train_y)\n",
    "best_model = grid_search.best_estimator_\n",
    "best_params = grid_search.best_params_\n",
    "\n",
    "final_model = XGBRegressor(\n",
    "    **best_params,\n",
    "    early_stopping_rounds=50,\n",
    "    objective='count:poisson',\n",
    "    eval_metric='poisson-nlogik'\n",
    "    )\n",
    "\n",
    "# Avaliação\n",
    "test_pred = final_model.predict(test_X)\n",
    "val_pred = final_model.predict(val_X)\n",
    "\n",
    "print(60 * '-')\n",
    "print('Teste:')\n",
    "print(f\"MAE: {mean_absolute_error(test_y, test_pred):.4f}\")\n",
    "print(f\"RMSE: {np.sqrt(mean_squared_error(test_y, test_pred)):.4f}\")\n",
    "print(f\"Log Loss: {calculate.poisson_log_loss(test_y, test_pred):.4f}\")\n",
    "\n",
    "print(60 * '-')\n",
    "print('Validação:')\n",
    "print(f\"MAE: {mean_absolute_error(val_y, val_pred):.4f}\")\n",
    "print(f\"RMSE: {np.sqrt(mean_squared_error(val_y, val_pred)):.4f}\")\n",
    "print(f\"Log Loss: {calculate.poisson_log_loss(val_y, val_pred):.4f}\")"
   ]
  }
 ],
 "metadata": {
  "kernelspec": {
   "display_name": "Python 3",
   "language": "python",
   "name": "python3"
  },
  "language_info": {
   "codemirror_mode": {
    "name": "ipython",
    "version": 3
   },
   "file_extension": ".py",
   "mimetype": "text/x-python",
   "name": "python",
   "nbconvert_exporter": "python",
   "pygments_lexer": "ipython3",
   "version": "3.13.1"
  }
 },
 "nbformat": 4,
 "nbformat_minor": 2
}
