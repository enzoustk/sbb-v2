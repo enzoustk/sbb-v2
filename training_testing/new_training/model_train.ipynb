{
 "cells": [
  {
   "cell_type": "code",
   "execution_count": 26,
   "id": "fdc3e21e",
   "metadata": {},
   "outputs": [],
   "source": [
    "import pandas as pd \n",
    "import numpy as np\n",
    "\n",
    "df = pd.read_csv('featured.csv',parse_dates=['date'])"
   ]
  },
  {
   "cell_type": "code",
   "execution_count": 27,
   "id": "8a54ea36",
   "metadata": {},
   "outputs": [],
   "source": [
    "df = df[df['league'] == 22614]\n",
    "df = df.dropna()"
   ]
  },
  {
   "cell_type": "markdown",
   "id": "180db688",
   "metadata": {},
   "source": [
    "Abordagem 1:\n",
    "Treinar usando um simples Split Temporal"
   ]
  },
  {
   "cell_type": "code",
   "execution_count": 28,
   "id": "cf516a13",
   "metadata": {},
   "outputs": [],
   "source": [
    "features = [\n",
    "    'home_avg_score', 'home_avg_goals_conceded', 'home_win_rate',\n",
    "    'away_avg_score', 'away_avg_goals_conceded', 'away_win_rate',\n",
    "    'h2h_avg_goals_home', 'h2h_avg_goals_away', 'h2h_win_rate_home'\n",
    "]\n",
    "\n",
    "target = ['total_score']"
   ]
  },
  {
   "cell_type": "code",
   "execution_count": 29,
   "id": "f2931640",
   "metadata": {},
   "outputs": [],
   "source": [
    "from datetime import datetime\n",
    "split_date = datetime(2025, 3, 25)"
   ]
  },
  {
   "cell_type": "code",
   "execution_count": 30,
   "id": "7f2ca492",
   "metadata": {},
   "outputs": [],
   "source": [
    "import xgboost as xgb\n",
    "import optuna\n",
    "from sklearn.metrics import mean_absolute_error, mean_poisson_deviance\n",
    "from sklearn.preprocessing import StandardScaler"
   ]
  },
  {
   "cell_type": "code",
   "execution_count": 31,
   "id": "75630e88",
   "metadata": {},
   "outputs": [],
   "source": [
    "train_df = df[df['date'] <= split_date]\n",
    "val_df = df[df['date'] > split_date]\n",
    "\n",
    "X_train = train_df[features]\n",
    "y_train = train_df[target]\n",
    "\n",
    "X_val = val_df[features]\n",
    "y_val = val_df[target]\n",
    "\n",
    "# # Normalizar os dados (opcional, mas útil para muitos modelos)\n",
    "# scaler = StandardScaler()\n",
    "# X_train_scaled = scaler.fit_transform(X_train)\n",
    "# X_val_scaled = scaler.transform(X_val)"
   ]
  },
  {
   "cell_type": "markdown",
   "id": "7e566eb1",
   "metadata": {},
   "source": [
    "Bayesian Optimization"
   ]
  },
  {
   "cell_type": "code",
   "execution_count": 32,
   "id": "167e800a",
   "metadata": {},
   "outputs": [],
   "source": [
    "def objective(trial):\n",
    "    params = {\n",
    "        'objective': 'count:poisson',\n",
    "        'eval_metric': 'poisson-nloglik',\n",
    "        'booster': 'gbtree',\n",
    "        'lambda': trial.suggest_float('lambda', 0.1, 0.9),\n",
    "        'alpha': trial.suggest_float('alpha', 0.1, 0.9),\n",
    "        'max_depth': trial.suggest_int('max_depth', 3, 5),  # Mais restrito\n",
    "        'eta': trial.suggest_float('eta', 0.01, 0.1),       # Range menor\n",
    "        'subsample': trial.suggest_float('subsample', 0.6, 0.9),\n",
    "        'colsample_bytree': trial.suggest_float('colsample_bytree', 0.6, 0.9),\n",
    "    }\n",
    "    \n",
    "    dtrain = xgb.DMatrix(X_train_scaled, label=y_train)\n",
    "    dval = xgb.DMatrix(X_val_scaled, label=y_val)\n",
    "    \n",
    "    model = xgb.train(\n",
    "        params,\n",
    "        dtrain,\n",
    "        num_boost_round=1000,\n",
    "        evals=[(dval, 'eval')],\n",
    "        early_stopping_rounds=50,\n",
    "        verbose_eval=False\n",
    "    )\n",
    "    \n",
    "    preds = model.predict(dval)\n",
    "    score = mean_poisson_deviance(y_val, preds)  # Métrica principal\n",
    "    return score"
   ]
  },
  {
   "cell_type": "code",
   "execution_count": 33,
   "id": "79fbbceb",
   "metadata": {},
   "outputs": [
    {
     "name": "stderr",
     "output_type": "stream",
     "text": [
      "[I 2025-05-13 18:56:13,938] A new study created in memory with name: no-name-6d36b8ca-2de4-49ca-b035-e2f4663400b9\n"
     ]
    },
    {
     "data": {
      "application/vnd.jupyter.widget-view+json": {
       "model_id": "576222922ac44d7699902152544a5a3a",
       "version_major": 2,
       "version_minor": 0
      },
      "text/plain": [
       "  0%|          | 0/100 [00:00<?, ?it/s]"
      ]
     },
     "metadata": {},
     "output_type": "display_data"
    },
    {
     "name": "stdout",
     "output_type": "stream",
     "text": [
      "[I 2025-05-13 18:56:14,160] Trial 0 finished with value: 0.9775717854499817 and parameters: {'lambda': 0.5590718768389927, 'alpha': 0.12579127107997864, 'max_depth': 4, 'eta': 0.09160849067385046, 'subsample': 0.8289755430639427, 'colsample_bytree': 0.7743352985586865}. Best is trial 0 with value: 0.9775717854499817.\n",
      "[I 2025-05-13 18:56:14,441] Trial 1 finished with value: 0.9772166609764099 and parameters: {'lambda': 0.7394005111423966, 'alpha': 0.6161342448964396, 'max_depth': 3, 'eta': 0.06663470476138163, 'subsample': 0.7176981734389565, 'colsample_bytree': 0.7845974365052235}. Best is trial 1 with value: 0.9772166609764099.\n",
      "[I 2025-05-13 18:56:15,205] Trial 2 finished with value: 0.9763124585151672 and parameters: {'lambda': 0.522613165211619, 'alpha': 0.3797900695823183, 'max_depth': 4, 'eta': 0.01902440901669422, 'subsample': 0.6458157386736134, 'colsample_bytree': 0.7436138220005388}. Best is trial 2 with value: 0.9763124585151672.\n",
      "[I 2025-05-13 18:56:16,448] Trial 3 finished with value: 0.9761554598808289 and parameters: {'lambda': 0.1363302710829781, 'alpha': 0.589121383017825, 'max_depth': 3, 'eta': 0.011017442400942459, 'subsample': 0.6052734382569247, 'colsample_bytree': 0.7148208076330762}. Best is trial 3 with value: 0.9761554598808289.\n",
      "[I 2025-05-13 18:56:16,894] Trial 4 finished with value: 0.9778598546981812 and parameters: {'lambda': 0.7905717531357019, 'alpha': 0.21851912232071868, 'max_depth': 5, 'eta': 0.042127691288567234, 'subsample': 0.7769688587261384, 'colsample_bytree': 0.8840896674972769}. Best is trial 3 with value: 0.9761554598808289.\n",
      "[I 2025-05-13 18:56:17,293] Trial 5 finished with value: 0.9762154221534729 and parameters: {'lambda': 0.7105150012465659, 'alpha': 0.20005784018468012, 'max_depth': 3, 'eta': 0.03885120918916642, 'subsample': 0.8125961574396485, 'colsample_bytree': 0.6292586405533004}. Best is trial 3 with value: 0.9761554598808289.\n",
      "[I 2025-05-13 18:56:18,617] Trial 6 finished with value: 0.9760786890983582 and parameters: {'lambda': 0.48799022203334164, 'alpha': 0.6809227220676515, 'max_depth': 4, 'eta': 0.010641720049166175, 'subsample': 0.8354560872607136, 'colsample_bytree': 0.6764730736896796}. Best is trial 6 with value: 0.9760786890983582.\n",
      "[I 2025-05-13 18:56:19,578] Trial 7 finished with value: 0.9770554304122925 and parameters: {'lambda': 0.6103256698905752, 'alpha': 0.2095137583944996, 'max_depth': 5, 'eta': 0.01351149429662794, 'subsample': 0.7601460672098304, 'colsample_bytree': 0.6476777400974294}. Best is trial 6 with value: 0.9760786890983582.\n",
      "[I 2025-05-13 18:56:20,128] Trial 8 finished with value: 0.9768824577331543 and parameters: {'lambda': 0.3982260459880854, 'alpha': 0.8236464984613511, 'max_depth': 5, 'eta': 0.033130799398895655, 'subsample': 0.660747338188147, 'colsample_bytree': 0.7532415118296661}. Best is trial 6 with value: 0.9760786890983582.\n",
      "[I 2025-05-13 18:56:20,845] Trial 9 finished with value: 0.976556658744812 and parameters: {'lambda': 0.535050056341214, 'alpha': 0.5866717422763903, 'max_depth': 3, 'eta': 0.02154668297994998, 'subsample': 0.7856616750256792, 'colsample_bytree': 0.7792497322455124}. Best is trial 6 with value: 0.9760786890983582.\n",
      "[I 2025-05-13 18:56:21,141] Trial 10 finished with value: 0.9768347144126892 and parameters: {'lambda': 0.3462795624562918, 'alpha': 0.8878282583048629, 'max_depth': 4, 'eta': 0.08261476526885375, 'subsample': 0.8982898408339943, 'colsample_bytree': 0.6826280856717989}. Best is trial 6 with value: 0.9760786890983582.\n",
      "[I 2025-05-13 18:56:21,574] Trial 11 finished with value: 0.9766775965690613 and parameters: {'lambda': 0.14362437057142155, 'alpha': 0.6587872451865541, 'max_depth': 3, 'eta': 0.057522503657054996, 'subsample': 0.6109612289351352, 'colsample_bytree': 0.6977331155913942}. Best is trial 6 with value: 0.9760786890983582.\n",
      "[I 2025-05-13 18:56:22,818] Trial 12 finished with value: 0.9763935804367065 and parameters: {'lambda': 0.14095491438468088, 'alpha': 0.4535209786679635, 'max_depth': 4, 'eta': 0.010098957316846586, 'subsample': 0.8758758478384638, 'colsample_bytree': 0.706055225616513}. Best is trial 6 with value: 0.9760786890983582.\n",
      "[I 2025-05-13 18:56:23,399] Trial 13 finished with value: 0.9763405323028564 and parameters: {'lambda': 0.8982742762419814, 'alpha': 0.7226485389574319, 'max_depth': 3, 'eta': 0.02959062637411604, 'subsample': 0.7140548511472843, 'colsample_bytree': 0.6108544174946494}. Best is trial 6 with value: 0.9760786890983582.\n",
      "[I 2025-05-13 18:56:23,731] Trial 14 finished with value: 0.9768120050430298 and parameters: {'lambda': 0.2703015890374659, 'alpha': 0.5199383649309497, 'max_depth': 4, 'eta': 0.05031295962647615, 'subsample': 0.8406031354471999, 'colsample_bytree': 0.8406193692838854}. Best is trial 6 with value: 0.9760786890983582.\n",
      "[I 2025-05-13 18:56:24,318] Trial 15 finished with value: 0.9761049151420593 and parameters: {'lambda': 0.2665730081323503, 'alpha': 0.7541840471168484, 'max_depth': 4, 'eta': 0.025350077523618782, 'subsample': 0.7080226944831103, 'colsample_bytree': 0.6640866467989385}. Best is trial 6 with value: 0.9760786890983582.\n",
      "[I 2025-05-13 18:56:24,929] Trial 16 finished with value: 0.9762552976608276 and parameters: {'lambda': 0.4194007404785609, 'alpha': 0.7635433045865675, 'max_depth': 4, 'eta': 0.025848630963719033, 'subsample': 0.7170381792195345, 'colsample_bytree': 0.6563389744929337}. Best is trial 6 with value: 0.9760786890983582.\n",
      "[I 2025-05-13 18:56:25,225] Trial 17 finished with value: 0.9800810217857361 and parameters: {'lambda': 0.22984177833731712, 'alpha': 0.7129311510999374, 'max_depth': 5, 'eta': 0.06988231193628965, 'subsample': 0.6825711313748616, 'colsample_bytree': 0.6025422901202956}. Best is trial 6 with value: 0.9760786890983582.\n",
      "[I 2025-05-13 18:56:25,660] Trial 18 finished with value: 0.9770529270172119 and parameters: {'lambda': 0.3105371589686311, 'alpha': 0.8882283611708695, 'max_depth': 4, 'eta': 0.04693758034805329, 'subsample': 0.8604379655922684, 'colsample_bytree': 0.6579187741816929}. Best is trial 6 with value: 0.9760786890983582.\n",
      "[I 2025-05-13 18:56:26,075] Trial 19 finished with value: 0.9768099784851074 and parameters: {'lambda': 0.4504669911635831, 'alpha': 0.7857385699002937, 'max_depth': 4, 'eta': 0.03672939424122816, 'subsample': 0.8049783510985461, 'colsample_bytree': 0.6816717775473856}. Best is trial 6 with value: 0.9760786890983582.\n",
      "[I 2025-05-13 18:56:26,835] Trial 20 finished with value: 0.9766117334365845 and parameters: {'lambda': 0.6394330820112769, 'alpha': 0.36412124441497146, 'max_depth': 5, 'eta': 0.02306671498337111, 'subsample': 0.7419796436345842, 'colsample_bytree': 0.728986425525566}. Best is trial 6 with value: 0.9760786890983582.\n",
      "[I 2025-05-13 18:56:28,304] Trial 21 finished with value: 0.976151704788208 and parameters: {'lambda': 0.20194845679308782, 'alpha': 0.5496061453145361, 'max_depth': 3, 'eta': 0.010172323145295198, 'subsample': 0.6018188104062998, 'colsample_bytree': 0.702069817460993}. Best is trial 6 with value: 0.9760786890983582.\n",
      "[I 2025-05-13 18:56:29,040] Trial 22 finished with value: 0.9767448902130127 and parameters: {'lambda': 0.21814770227500446, 'alpha': 0.6764195693557364, 'max_depth': 4, 'eta': 0.01725139520340343, 'subsample': 0.6315452335542463, 'colsample_bytree': 0.6788079849861787}. Best is trial 6 with value: 0.9760786890983582.\n",
      "[I 2025-05-13 18:56:29,606] Trial 23 finished with value: 0.9763118624687195 and parameters: {'lambda': 0.3616208908738106, 'alpha': 0.5032961674973879, 'max_depth': 3, 'eta': 0.02709555824224314, 'subsample': 0.6914262828781655, 'colsample_bytree': 0.6367195055859064}. Best is trial 6 with value: 0.9760786890983582.\n",
      "[I 2025-05-13 18:56:30,475] Trial 24 finished with value: 0.9765198826789856 and parameters: {'lambda': 0.22056748311552288, 'alpha': 0.5606444180946466, 'max_depth': 3, 'eta': 0.01777531674727878, 'subsample': 0.6727573628571385, 'colsample_bytree': 0.6724362285471167}. Best is trial 6 with value: 0.9760786890983582.\n",
      "[I 2025-05-13 18:56:31,951] Trial 25 finished with value: 0.9757314324378967 and parameters: {'lambda': 0.10192049664028861, 'alpha': 0.458239661855925, 'max_depth': 4, 'eta': 0.010425150986911094, 'subsample': 0.7464369006581146, 'colsample_bytree': 0.8148195887559826}. Best is trial 25 with value: 0.9757314324378967.\n",
      "[I 2025-05-13 18:56:32,406] Trial 26 finished with value: 0.97638338804245 and parameters: {'lambda': 0.47309133858008057, 'alpha': 0.43045044287567114, 'max_depth': 4, 'eta': 0.031045946076299805, 'subsample': 0.7718097530135394, 'colsample_bytree': 0.8317879411085484}. Best is trial 25 with value: 0.9757314324378967.\n",
      "[I 2025-05-13 18:56:33,126] Trial 27 finished with value: 0.9759693145751953 and parameters: {'lambda': 0.10585258382285449, 'alpha': 0.3172990541081079, 'max_depth': 4, 'eta': 0.018198718426974132, 'subsample': 0.7409700595617628, 'colsample_bytree': 0.8237184736074408}. Best is trial 25 with value: 0.9757314324378967.\n",
      "[I 2025-05-13 18:56:33,885] Trial 28 finished with value: 0.9756646156311035 and parameters: {'lambda': 0.1255742710560761, 'alpha': 0.29575064697411235, 'max_depth': 4, 'eta': 0.016483531046537235, 'subsample': 0.7427498145200061, 'colsample_bytree': 0.8203495645300294}. Best is trial 28 with value: 0.9756646156311035.\n",
      "[I 2025-05-13 18:56:34,111] Trial 29 finished with value: 0.9772087931632996 and parameters: {'lambda': 0.10311393433643828, 'alpha': 0.2952829248700632, 'max_depth': 4, 'eta': 0.08594002049414255, 'subsample': 0.737756574414348, 'colsample_bytree': 0.8087744539134332}. Best is trial 28 with value: 0.9756646156311035.\n",
      "[I 2025-05-13 18:56:34,398] Trial 30 finished with value: 0.9774571657180786 and parameters: {'lambda': 0.1789544305471214, 'alpha': 0.13673047684063747, 'max_depth': 4, 'eta': 0.06132502445697803, 'subsample': 0.7490610924001457, 'colsample_bytree': 0.8830743019765839}. Best is trial 28 with value: 0.9756646156311035.\n",
      "[I 2025-05-13 18:56:35,172] Trial 31 finished with value: 0.975822925567627 and parameters: {'lambda': 0.10580995926432449, 'alpha': 0.31566155010295555, 'max_depth': 4, 'eta': 0.016483062014240116, 'subsample': 0.7934338826620163, 'colsample_bytree': 0.8540408454341294}. Best is trial 28 with value: 0.9756646156311035.\n",
      "[I 2025-05-13 18:56:35,951] Trial 32 finished with value: 0.9759747385978699 and parameters: {'lambda': 0.11608595251847255, 'alpha': 0.2990788090218458, 'max_depth': 4, 'eta': 0.017238764991942414, 'subsample': 0.7334014029249524, 'colsample_bytree': 0.8551072102309982}. Best is trial 28 with value: 0.9756646156311035.\n",
      "[I 2025-05-13 18:56:36,694] Trial 33 finished with value: 0.9762868285179138 and parameters: {'lambda': 0.16743194260535638, 'alpha': 0.31588962896003125, 'max_depth': 4, 'eta': 0.018528469935485674, 'subsample': 0.7993826764917591, 'colsample_bytree': 0.8031929452568055}. Best is trial 28 with value: 0.9756646156311035.\n",
      "[I 2025-05-13 18:56:36,906] Trial 34 finished with value: 0.9774619340896606 and parameters: {'lambda': 0.27313876036181095, 'alpha': 0.37630449483935646, 'max_depth': 4, 'eta': 0.09636344375326186, 'subsample': 0.7591198413319146, 'colsample_bytree': 0.8673076890486551}. Best is trial 28 with value: 0.9756646156311035.\n",
      "[I 2025-05-13 18:56:37,693] Trial 35 finished with value: 0.975832462310791 and parameters: {'lambda': 0.1008976060857496, 'alpha': 0.4430825674642854, 'max_depth': 4, 'eta': 0.015959620220831673, 'subsample': 0.7897989224576741, 'colsample_bytree': 0.8112359519831502}. Best is trial 28 with value: 0.9756646156311035.\n",
      "[I 2025-05-13 18:56:38,109] Trial 36 finished with value: 0.9768834710121155 and parameters: {'lambda': 0.18179989300764188, 'alpha': 0.4351574919819546, 'max_depth': 5, 'eta': 0.036036608019799916, 'subsample': 0.8212630629014682, 'colsample_bytree': 0.7983895116837104}. Best is trial 28 with value: 0.9756646156311035.\n",
      "[I 2025-05-13 18:56:39,002] Trial 37 finished with value: 0.9757959842681885 and parameters: {'lambda': 0.16658397740472194, 'alpha': 0.2425404437386751, 'max_depth': 4, 'eta': 0.013952634622802232, 'subsample': 0.7898680246363353, 'colsample_bytree': 0.8979130422104514}. Best is trial 28 with value: 0.9756646156311035.\n",
      "[I 2025-05-13 18:56:39,333] Trial 38 finished with value: 0.9761203527450562 and parameters: {'lambda': 0.314216624097223, 'alpha': 0.24815788945969475, 'max_depth': 4, 'eta': 0.04258749439599524, 'subsample': 0.766257124606209, 'colsample_bytree': 0.8896106421388651}. Best is trial 28 with value: 0.9756646156311035.\n",
      "[I 2025-05-13 18:56:39,943] Trial 39 finished with value: 0.9764589667320251 and parameters: {'lambda': 0.16979339716036743, 'alpha': 0.11418988501358496, 'max_depth': 5, 'eta': 0.023919674973386942, 'subsample': 0.7840271968148449, 'colsample_bytree': 0.8633360893363651}. Best is trial 28 with value: 0.9756646156311035.\n",
      "[I 2025-05-13 18:56:40,787] Trial 40 finished with value: 0.9761117696762085 and parameters: {'lambda': 0.1492376827192169, 'alpha': 0.1658928131960304, 'max_depth': 4, 'eta': 0.014434467025682206, 'subsample': 0.8218619167183739, 'colsample_bytree': 0.8981234076138398}. Best is trial 28 with value: 0.9756646156311035.\n",
      "[I 2025-05-13 18:56:41,697] Trial 41 finished with value: 0.9764302968978882 and parameters: {'lambda': 0.10266581970248559, 'alpha': 0.25149665471884486, 'max_depth': 4, 'eta': 0.014343051839224418, 'subsample': 0.7948437120626594, 'colsample_bytree': 0.7692431936584955}. Best is trial 28 with value: 0.9756646156311035.\n",
      "[I 2025-05-13 18:56:42,286] Trial 42 finished with value: 0.9764341115951538 and parameters: {'lambda': 0.2275315652412026, 'alpha': 0.4682154801927821, 'max_depth': 4, 'eta': 0.020740472357222796, 'subsample': 0.785405615831287, 'colsample_bytree': 0.848698397406244}. Best is trial 28 with value: 0.9756646156311035.\n",
      "[I 2025-05-13 18:56:42,774] Trial 43 finished with value: 0.9764148592948914 and parameters: {'lambda': 0.14147433818473337, 'alpha': 0.3545739604900003, 'max_depth': 4, 'eta': 0.029421238280552087, 'subsample': 0.7586325992817516, 'colsample_bytree': 0.8199494158629582}. Best is trial 28 with value: 0.9756646156311035.\n",
      "[I 2025-05-13 18:56:43,596] Trial 44 finished with value: 0.9764034748077393 and parameters: {'lambda': 0.19254814041889945, 'alpha': 0.4001203962168499, 'max_depth': 4, 'eta': 0.014395204359442717, 'subsample': 0.8483233321539487, 'colsample_bytree': 0.8749802744498032}. Best is trial 28 with value: 0.9756646156311035.\n",
      "[I 2025-05-13 18:56:43,845] Trial 45 finished with value: 0.9767540693283081 and parameters: {'lambda': 0.14350073427765753, 'alpha': 0.240901549788812, 'max_depth': 4, 'eta': 0.07484973973396043, 'subsample': 0.7293856215814685, 'colsample_bytree': 0.7893561644006558}. Best is trial 28 with value: 0.9756646156311035.\n",
      "[I 2025-05-13 18:56:44,402] Trial 46 finished with value: 0.976294755935669 and parameters: {'lambda': 0.24742681500657931, 'alpha': 0.18231995431836662, 'max_depth': 4, 'eta': 0.02161706226618887, 'subsample': 0.7744210689121561, 'colsample_bytree': 0.8410195529763377}. Best is trial 28 with value: 0.9756646156311035.\n",
      "[I 2025-05-13 18:56:45,392] Trial 47 finished with value: 0.9756948947906494 and parameters: {'lambda': 0.10124123330779952, 'alpha': 0.276115446054482, 'max_depth': 4, 'eta': 0.011920969060609958, 'subsample': 0.8112509610907874, 'colsample_bytree': 0.8153869627812445}. Best is trial 28 with value: 0.9756646156311035.\n",
      "[I 2025-05-13 18:56:46,578] Trial 48 finished with value: 0.9762231707572937 and parameters: {'lambda': 0.5921143528790836, 'alpha': 0.27811648289912416, 'max_depth': 4, 'eta': 0.010050343141867594, 'subsample': 0.806278254912847, 'colsample_bytree': 0.7524012324076066}. Best is trial 28 with value: 0.9756646156311035.\n",
      "[I 2025-05-13 18:56:47,002] Trial 49 finished with value: 0.976017415523529 and parameters: {'lambda': 0.7553667483712063, 'alpha': 0.33987885667844353, 'max_depth': 4, 'eta': 0.033729053110883825, 'subsample': 0.7018201123893634, 'colsample_bytree': 0.7715125375478963}. Best is trial 28 with value: 0.9756646156311035.\n",
      "[I 2025-05-13 18:56:47,854] Trial 50 finished with value: 0.9759683609008789 and parameters: {'lambda': 0.29154408374678953, 'alpha': 0.4017690569140968, 'max_depth': 4, 'eta': 0.013363922877775068, 'subsample': 0.8184876877109452, 'colsample_bytree': 0.8332013308500062}. Best is trial 28 with value: 0.9756646156311035.\n",
      "[I 2025-05-13 18:56:48,673] Trial 51 finished with value: 0.975929856300354 and parameters: {'lambda': 0.12381484733240185, 'alpha': 0.2253625167446383, 'max_depth': 4, 'eta': 0.014205773928238888, 'subsample': 0.7954135142076532, 'colsample_bytree': 0.8140800159721001}. Best is trial 28 with value: 0.9756646156311035.\n",
      "[I 2025-05-13 18:56:49,267] Trial 52 finished with value: 0.97605961561203 and parameters: {'lambda': 0.15496321261198395, 'alpha': 0.27632691512003726, 'max_depth': 4, 'eta': 0.020971239118417095, 'subsample': 0.8344252175074104, 'colsample_bytree': 0.7916840007549917}. Best is trial 28 with value: 0.9756646156311035.\n",
      "[I 2025-05-13 18:56:49,769] Trial 53 finished with value: 0.9761635661125183 and parameters: {'lambda': 0.10073967218949316, 'alpha': 0.4730940655154635, 'max_depth': 4, 'eta': 0.027732622236198642, 'subsample': 0.7237034715389602, 'colsample_bytree': 0.856037929246161}. Best is trial 28 with value: 0.9756646156311035.\n",
      "[I 2025-05-13 18:56:50,790] Trial 54 finished with value: 0.9759613871574402 and parameters: {'lambda': 0.18960635333143677, 'alpha': 0.1925936458790546, 'max_depth': 4, 'eta': 0.012663563235408851, 'subsample': 0.7532040433547629, 'colsample_bytree': 0.8249780290626816}. Best is trial 28 with value: 0.9756646156311035.\n",
      "[I 2025-05-13 18:56:51,580] Trial 55 finished with value: 0.9765068888664246 and parameters: {'lambda': 0.13029856898883008, 'alpha': 0.3367546205613325, 'max_depth': 4, 'eta': 0.017181779644872077, 'subsample': 0.7828751384164448, 'colsample_bytree': 0.8442635721990983}. Best is trial 28 with value: 0.9756646156311035.\n",
      "[I 2025-05-13 18:56:52,197] Trial 56 finished with value: 0.9764389991760254 and parameters: {'lambda': 0.8610010911721551, 'alpha': 0.39883516043976464, 'max_depth': 4, 'eta': 0.024474027726460068, 'subsample': 0.809639043975563, 'colsample_bytree': 0.7811677925273716}. Best is trial 28 with value: 0.9756646156311035.\n",
      "[I 2025-05-13 18:56:53,620] Trial 57 finished with value: 0.976810097694397 and parameters: {'lambda': 0.24729236877016603, 'alpha': 0.5259273380943454, 'max_depth': 3, 'eta': 0.010485394402718716, 'subsample': 0.8710925228004737, 'colsample_bytree': 0.8726365488485684}. Best is trial 28 with value: 0.9756646156311035.\n",
      "[I 2025-05-13 18:56:54,238] Trial 58 finished with value: 0.9764339923858643 and parameters: {'lambda': 0.16005926315050045, 'alpha': 0.14853027364723514, 'max_depth': 4, 'eta': 0.021452207231339598, 'subsample': 0.7727789449233166, 'colsample_bytree': 0.761687723344008}. Best is trial 28 with value: 0.9756646156311035.\n",
      "[I 2025-05-13 18:56:55,198] Trial 59 finished with value: 0.9769839644432068 and parameters: {'lambda': 0.674900728507823, 'alpha': 0.6133667344919767, 'max_depth': 5, 'eta': 0.015634944167123573, 'subsample': 0.8444193495555836, 'colsample_bytree': 0.7388450587001011}. Best is trial 28 with value: 0.9756646156311035.\n",
      "[I 2025-05-13 18:56:55,550] Trial 60 finished with value: 0.9765837788581848 and parameters: {'lambda': 0.20633314695081567, 'alpha': 0.26845352206165785, 'max_depth': 4, 'eta': 0.05165766859363607, 'subsample': 0.793251030631007, 'colsample_bytree': 0.8987914822264417}. Best is trial 28 with value: 0.9756646156311035.\n",
      "[I 2025-05-13 18:56:56,529] Trial 61 finished with value: 0.975686252117157 and parameters: {'lambda': 0.12361381880608165, 'alpha': 0.3143287654763727, 'max_depth': 4, 'eta': 0.01296741805783811, 'subsample': 0.7929917893994642, 'colsample_bytree': 0.8114797272596224}. Best is trial 28 with value: 0.9756646156311035.\n",
      "[I 2025-05-13 18:56:57,171] Trial 62 finished with value: 0.9761586785316467 and parameters: {'lambda': 0.13374919433860474, 'alpha': 0.2080252114019956, 'max_depth': 4, 'eta': 0.020198932732242825, 'subsample': 0.8264363020993661, 'colsample_bytree': 0.8095932046509536}. Best is trial 28 with value: 0.9756646156311035.\n",
      "[I 2025-05-13 18:56:58,246] Trial 63 finished with value: 0.9757394194602966 and parameters: {'lambda': 0.12937131198539076, 'alpha': 0.3083526664494145, 'max_depth': 4, 'eta': 0.012536428805799882, 'subsample': 0.7650771239167837, 'colsample_bytree': 0.8321662757605021}. Best is trial 28 with value: 0.9756646156311035.\n",
      "[I 2025-05-13 18:56:59,602] Trial 64 finished with value: 0.9758890271186829 and parameters: {'lambda': 0.16867544177940583, 'alpha': 0.3208166952822403, 'max_depth': 4, 'eta': 0.011046202347708008, 'subsample': 0.7661247187578052, 'colsample_bytree': 0.8350366702115556}. Best is trial 28 with value: 0.9756646156311035.\n",
      "[I 2025-05-13 18:57:00,570] Trial 65 finished with value: 0.9757126569747925 and parameters: {'lambda': 0.20801604637033427, 'alpha': 0.2998788817239987, 'max_depth': 4, 'eta': 0.012499696565136293, 'subsample': 0.7465412871943558, 'colsample_bytree': 0.8559749367629897}. Best is trial 28 with value: 0.9756646156311035.\n",
      "[I 2025-05-13 18:57:01,531] Trial 66 finished with value: 0.9757832288742065 and parameters: {'lambda': 0.20277523281744836, 'alpha': 0.22815545457871134, 'max_depth': 4, 'eta': 0.012075993944482293, 'subsample': 0.746304995467918, 'colsample_bytree': 0.7972200435284098}. Best is trial 28 with value: 0.9756646156311035.\n",
      "[I 2025-05-13 18:57:02,613] Trial 67 finished with value: 0.9758041501045227 and parameters: {'lambda': 0.36566668020295134, 'alpha': 0.27968605822625814, 'max_depth': 4, 'eta': 0.01222214504344111, 'subsample': 0.7444208794462299, 'colsample_bytree': 0.7986878592751754}. Best is trial 28 with value: 0.9756646156311035.\n",
      "[I 2025-05-13 18:57:03,263] Trial 68 finished with value: 0.9759109616279602 and parameters: {'lambda': 0.23774986688773445, 'alpha': 0.35863594654193137, 'max_depth': 4, 'eta': 0.018967649232089014, 'subsample': 0.7065229810649515, 'colsample_bytree': 0.8236413549648998}. Best is trial 28 with value: 0.9756646156311035.\n",
      "[I 2025-05-13 18:57:03,818] Trial 69 finished with value: 0.9760645627975464 and parameters: {'lambda': 0.522850039771382, 'alpha': 0.3014938241235544, 'max_depth': 4, 'eta': 0.024243496241184433, 'subsample': 0.7262837242724112, 'colsample_bytree': 0.7880818650521902}. Best is trial 28 with value: 0.9756646156311035.\n",
      "[I 2025-05-13 18:57:04,832] Trial 70 finished with value: 0.976479709148407 and parameters: {'lambda': 0.19874641994546197, 'alpha': 0.2284554901633123, 'max_depth': 3, 'eta': 0.012218254218630927, 'subsample': 0.7174042722554083, 'colsample_bytree': 0.8012641080524213}. Best is trial 28 with value: 0.9756646156311035.\n",
      "[I 2025-05-13 18:57:05,657] Trial 71 finished with value: 0.9760985970497131 and parameters: {'lambda': 0.12919459933357857, 'alpha': 0.2556842915152849, 'max_depth': 4, 'eta': 0.0156360079148176, 'subsample': 0.7563771257766971, 'colsample_bytree': 0.8192194754291446}. Best is trial 28 with value: 0.9756646156311035.\n",
      "[I 2025-05-13 18:57:06,831] Trial 72 finished with value: 0.9759058356285095 and parameters: {'lambda': 0.2162805995506314, 'alpha': 0.20382549070706923, 'max_depth': 4, 'eta': 0.010115531931146872, 'subsample': 0.7643037254867794, 'colsample_bytree': 0.837043038450953}. Best is trial 28 with value: 0.9756646156311035.\n",
      "[I 2025-05-13 18:57:07,572] Trial 73 finished with value: 0.9758158326148987 and parameters: {'lambda': 0.17942269616840126, 'alpha': 0.18119705908239447, 'max_depth': 4, 'eta': 0.018567423373177704, 'subsample': 0.7488361856272009, 'colsample_bytree': 0.861212933515528}. Best is trial 28 with value: 0.9756646156311035.\n",
      "[I 2025-05-13 18:57:08,692] Trial 74 finished with value: 0.9759619832038879 and parameters: {'lambda': 0.12537619313310105, 'alpha': 0.2956538848023278, 'max_depth': 4, 'eta': 0.012737121752814572, 'subsample': 0.7804886200629878, 'colsample_bytree': 0.8272848094561142}. Best is trial 28 with value: 0.9756646156311035.\n",
      "[I 2025-05-13 18:57:09,367] Trial 75 finished with value: 0.9762510657310486 and parameters: {'lambda': 0.16305902848081227, 'alpha': 0.33152997671467505, 'max_depth': 4, 'eta': 0.026830192306475136, 'subsample': 0.7376337314360212, 'colsample_bytree': 0.8828521598560909}. Best is trial 28 with value: 0.9756646156311035.\n",
      "[I 2025-05-13 18:57:10,259] Trial 76 finished with value: 0.9757850170135498 and parameters: {'lambda': 0.26886710854904416, 'alpha': 0.1555785109314402, 'max_depth': 4, 'eta': 0.015527971347625626, 'subsample': 0.7484067356332966, 'colsample_bytree': 0.8467986491840598}. Best is trial 28 with value: 0.9756646156311035.\n",
      "[I 2025-05-13 18:57:10,866] Trial 77 finished with value: 0.9763256311416626 and parameters: {'lambda': 0.26735417792840815, 'alpha': 0.10862352983652251, 'max_depth': 4, 'eta': 0.02273054732072891, 'subsample': 0.6969788675393335, 'colsample_bytree': 0.8503265382097175}. Best is trial 28 with value: 0.9756646156311035.\n",
      "[I 2025-05-13 18:57:11,824] Trial 78 finished with value: 0.97584068775177 and parameters: {'lambda': 0.31097233709683875, 'alpha': 0.15131712586130497, 'max_depth': 4, 'eta': 0.016771607053041884, 'subsample': 0.7495385074586267, 'colsample_bytree': 0.8148588949146635}. Best is trial 28 with value: 0.9756646156311035.\n",
      "[I 2025-05-13 18:57:12,658] Trial 79 finished with value: 0.9759345054626465 and parameters: {'lambda': 0.20294908296148467, 'alpha': 0.3820015309070598, 'max_depth': 4, 'eta': 0.01939224517918639, 'subsample': 0.7365105944873915, 'colsample_bytree': 0.8427425572434408}. Best is trial 28 with value: 0.9756646156311035.\n",
      "[I 2025-05-13 18:57:13,472] Trial 80 finished with value: 0.9759044051170349 and parameters: {'lambda': 0.1481589338629871, 'alpha': 0.21671253942396992, 'max_depth': 4, 'eta': 0.015639294618910476, 'subsample': 0.7129002583901171, 'colsample_bytree': 0.8048246204457763}. Best is trial 28 with value: 0.9756646156311035.\n",
      "[I 2025-05-13 18:57:14,444] Trial 81 finished with value: 0.9758384823799133 and parameters: {'lambda': 0.12174852728079924, 'alpha': 0.17176814288000253, 'max_depth': 4, 'eta': 0.013729496223937257, 'subsample': 0.7705032508919976, 'colsample_bytree': 0.8262426539356726}. Best is trial 28 with value: 0.9756646156311035.\n",
      "[I 2025-05-13 18:57:15,587] Trial 82 finished with value: 0.9760199189186096 and parameters: {'lambda': 0.17655253001193563, 'alpha': 0.2378977982472663, 'max_depth': 4, 'eta': 0.012354584808805302, 'subsample': 0.7607327947771562, 'colsample_bytree': 0.8726987570177528}. Best is trial 28 with value: 0.9756646156311035.\n",
      "[I 2025-05-13 18:57:15,891] Trial 83 finished with value: 0.9773519039154053 and parameters: {'lambda': 0.2502065097380564, 'alpha': 0.2673725280666805, 'max_depth': 4, 'eta': 0.06451706808632537, 'subsample': 0.7439832666487237, 'colsample_bytree': 0.8325144682966747}. Best is trial 28 with value: 0.9756646156311035.\n",
      "[I 2025-05-13 18:57:16,687] Trial 84 finished with value: 0.976105272769928 and parameters: {'lambda': 0.21972405495602843, 'alpha': 0.12808853275094867, 'max_depth': 4, 'eta': 0.01848165897644352, 'subsample': 0.8038519742703935, 'colsample_bytree': 0.8909485896442518}. Best is trial 28 with value: 0.9756646156311035.\n",
      "[I 2025-05-13 18:57:17,098] Trial 85 finished with value: 0.9765441417694092 and parameters: {'lambda': 0.14669933066941357, 'alpha': 0.29108271167710487, 'max_depth': 4, 'eta': 0.04199397858541206, 'subsample': 0.7765323177227788, 'colsample_bytree': 0.7938489377126801}. Best is trial 28 with value: 0.9756646156311035.\n",
      "[I 2025-05-13 18:57:18,075] Trial 86 finished with value: 0.9759051203727722 and parameters: {'lambda': 0.11993539763391442, 'alpha': 0.25552161979433474, 'max_depth': 4, 'eta': 0.015139113006587736, 'subsample': 0.7232549467166288, 'colsample_bytree': 0.8166333943468522}. Best is trial 28 with value: 0.9756646156311035.\n",
      "[I 2025-05-13 18:57:19,585] Trial 87 finished with value: 0.9760497808456421 and parameters: {'lambda': 0.19155661099552823, 'alpha': 0.30557821531811474, 'max_depth': 4, 'eta': 0.01035022143526539, 'subsample': 0.7557901225514482, 'colsample_bytree': 0.7804409962929608}. Best is trial 28 with value: 0.9756646156311035.\n",
      "[I 2025-05-13 18:57:20,209] Trial 88 finished with value: 0.9760311245918274 and parameters: {'lambda': 0.42881660791115067, 'alpha': 0.35451069887655845, 'max_depth': 4, 'eta': 0.022609945547849702, 'subsample': 0.8151100999538917, 'colsample_bytree': 0.85836657507982}. Best is trial 28 with value: 0.9756646156311035.\n",
      "[I 2025-05-13 18:57:21,124] Trial 89 finished with value: 0.9757542014122009 and parameters: {'lambda': 0.2942051225709874, 'alpha': 0.2233941887983047, 'max_depth': 4, 'eta': 0.013722062140533432, 'subsample': 0.788068703298299, 'colsample_bytree': 0.8471789747088402}. Best is trial 28 with value: 0.9756646156311035.\n",
      "[I 2025-05-13 18:57:21,416] Trial 90 finished with value: 0.9769040942192078 and parameters: {'lambda': 0.2923489854892586, 'alpha': 0.20100205135431562, 'max_depth': 4, 'eta': 0.075667637341013, 'subsample': 0.7319123627964025, 'colsample_bytree': 0.8511398985786234}. Best is trial 28 with value: 0.9756646156311035.\n",
      "[I 2025-05-13 18:57:22,439] Trial 91 finished with value: 0.9759176969528198 and parameters: {'lambda': 0.33028353537154476, 'alpha': 0.23093256319290417, 'max_depth': 4, 'eta': 0.012802171815670005, 'subsample': 0.7859844776994429, 'colsample_bytree': 0.845154314962191}. Best is trial 28 with value: 0.9756646156311035.\n",
      "[I 2025-05-13 18:57:23,177] Trial 92 finished with value: 0.9762830138206482 and parameters: {'lambda': 0.2909444473628049, 'alpha': 0.15225086763788265, 'max_depth': 4, 'eta': 0.01701838841860445, 'subsample': 0.8009020919686785, 'colsample_bytree': 0.8643197588490656}. Best is trial 28 with value: 0.9756646156311035.\n",
      "[I 2025-05-13 18:57:24,007] Trial 93 finished with value: 0.9759427309036255 and parameters: {'lambda': 0.3879416236322717, 'alpha': 0.2200093129423419, 'max_depth': 4, 'eta': 0.014863484058909476, 'subsample': 0.7677253054887605, 'colsample_bytree': 0.8396517844976662}. Best is trial 28 with value: 0.9756646156311035.\n",
      "[I 2025-05-13 18:57:24,617] Trial 94 finished with value: 0.9766225218772888 and parameters: {'lambda': 0.164621046936559, 'alpha': 0.25717191955116436, 'max_depth': 4, 'eta': 0.020170193417830714, 'subsample': 0.7778116874146314, 'colsample_bytree': 0.8062844904563887}. Best is trial 28 with value: 0.9756646156311035.\n",
      "[I 2025-05-13 18:57:25,520] Trial 95 finished with value: 0.9760253429412842 and parameters: {'lambda': 0.23343043411046566, 'alpha': 0.2834495069128957, 'max_depth': 4, 'eta': 0.013078168273240164, 'subsample': 0.7422892076953028, 'colsample_bytree': 0.8284202818525038}. Best is trial 28 with value: 0.9756646156311035.\n",
      "[I 2025-05-13 18:57:26,672] Trial 96 finished with value: 0.9759672284126282 and parameters: {'lambda': 0.11334950279159049, 'alpha': 0.18462005974823145, 'max_depth': 4, 'eta': 0.011170161812144752, 'subsample': 0.7496728595352053, 'colsample_bytree': 0.7633319550271421}. Best is trial 28 with value: 0.9756646156311035.\n",
      "[I 2025-05-13 18:57:27,429] Trial 97 finished with value: 0.9762077331542969 and parameters: {'lambda': 0.14461515714614842, 'alpha': 0.3720669837648892, 'max_depth': 4, 'eta': 0.016933502749009587, 'subsample': 0.7888234721978639, 'colsample_bytree': 0.8765461179087987}. Best is trial 28 with value: 0.9756646156311035.\n",
      "[I 2025-05-13 18:57:28,244] Trial 98 finished with value: 0.9759706854820251 and parameters: {'lambda': 0.2602219106707446, 'alpha': 0.8368784493125314, 'max_depth': 4, 'eta': 0.014427631437589296, 'subsample': 0.8113315567223015, 'colsample_bytree': 0.8184909364876614}. Best is trial 28 with value: 0.9756646156311035.\n",
      "[I 2025-05-13 18:57:28,759] Trial 99 finished with value: 0.9765651226043701 and parameters: {'lambda': 0.17873279838594067, 'alpha': 0.33070140103467843, 'max_depth': 4, 'eta': 0.029153911748610553, 'subsample': 0.7635723263940377, 'colsample_bytree': 0.8678734538005761}. Best is trial 28 with value: 0.9756646156311035.\n",
      "Melhores parâmetros: {'lambda': 0.1255742710560761, 'alpha': 0.29575064697411235, 'max_depth': 4, 'eta': 0.016483531046537235, 'subsample': 0.7427498145200061, 'colsample_bytree': 0.8203495645300294}\n"
     ]
    }
   ],
   "source": [
    "study = optuna.create_study(direction='minimize')\n",
    "study.optimize(objective, n_trials=100, show_progress_bar=True)\n",
    "\n",
    "# Melhores parâmetros encontrados\n",
    "best_params = study.best_params\n",
    "print(\"Melhores parâmetros:\", best_params)"
   ]
  },
  {
   "cell_type": "code",
   "execution_count": null,
   "id": "a606c42f",
   "metadata": {},
   "outputs": [
    {
     "name": "stdout",
     "output_type": "stream",
     "text": [
      "[0]\teval-poisson-nloglik:2.27528\n",
      "[100]\teval-poisson-nloglik:2.18619\n",
      "[200]\teval-poisson-nloglik:2.16751\n",
      "[300]\teval-poisson-nloglik:2.16368\n",
      "[400]\teval-poisson-nloglik:2.16299\n",
      "[500]\teval-poisson-nloglik:2.16291\n",
      "[522]\teval-poisson-nloglik:2.16294\n"
     ]
    }
   ],
   "source": [
    "# Adicionar parâmetros fixos aos melhores encontrados\n",
    "final_params = {\n",
    "    **best_params,\n",
    "    'objective': 'count:poisson',\n",
    "    'eval_metric': 'poisson-nloglik'\n",
    "}\n",
    "\n",
    "# Converter dados para DMatrix\n",
    "dtrain = xgb.DMatrix(X_train, label=y_train)\n",
    "dval = xgb.DMatrix(X_val, label=y_val)\n",
    "\n",
    "# Treinar com early stopping\n",
    "final_model = xgb.train(\n",
    "    final_params,\n",
    "    dtrain,\n",
    "    num_boost_round=1000,\n",
    "    evals=[(dval, 'eval')],\n",
    "    early_stopping_rounds=50,\n",
    "    verbose_eval=100\n",
    ")"
   ]
  },
  {
   "cell_type": "code",
   "execution_count": 24,
   "id": "f75670c9",
   "metadata": {},
   "outputs": [
    {
     "name": "stdout",
     "output_type": "stream",
     "text": [
      "MAE: 1.6960302591323853\n",
      "RMSE: 2.1302661895751953\n",
      "Poisson Deviance: 0.9753520488739014\n",
      "Probabilidades de gols totais: {0: array([0.0122404]), 1: array([0.05389463]), 2: array([0.11864939]), 3: array([0.1741383]), 4: array([0.19168333]), 5: array([0.16879687])}\n"
     ]
    }
   ],
   "source": [
    "from sklearn.metrics import root_mean_squared_error\n",
    "import math\n",
    "\n",
    "from scipy.stats import poisson\n",
    "import xgboost as xgb\n",
    "\n",
    "def predict_goal_probabilities(model, input_data, max_goals=5):\n",
    "    mu = model.predict(xgb.DMatrix(input_data))\n",
    "    return {\n",
    "        k: poisson.pmf(k, mu)\n",
    "        for k in range(max_goals + 1)\n",
    "    }\n",
    "\n",
    "\n",
    "\n",
    "\n",
    "# Prever na validação\n",
    "y_pred = final_model.predict(dval)\n",
    "\n",
    "# Métricas de avaliação\n",
    "print(\"MAE:\", mean_absolute_error(y_val, y_pred))\n",
    "print(\"RMSE:\", root_mean_squared_error(y_val, y_pred))\n",
    "print(\"Poisson Deviance:\", mean_poisson_deviance(y_val, y_pred))\n",
    "\n",
    "\n",
    "\n",
    "# Exemplo para uma partida específica\n",
    "sample_match = X_val_scaled[0:1]\n",
    "probabilities = predict_goal_probabilities(final_model, sample_match)\n",
    "print(\"Probabilidades de gols totais:\", probabilities)"
   ]
  },
  {
   "cell_type": "code",
   "execution_count": 25,
   "id": "d3413108",
   "metadata": {},
   "outputs": [
    {
     "data": {
      "image/png": "[encoded data removed]",
      "text/plain": [
       "<Figure size 640x480 with 1 Axes>"
      ]
     },
     "metadata": {},
     "output_type": "display_data"
    }
   ],
   "source": [
    "import matplotlib.pyplot as plt\n",
    "\n",
    "xgb.plot_importance(final_model, max_num_features=10)\n",
    "plt.show()"
   ]
  }
 ],
 "metadata": {
  "kernelspec": {
   "display_name": "Python 3",
   "language": "python",
   "name": "python3"
  },
  "language_info": {
   "codemirror_mode": {
    "name": "ipython",
    "version": 3
   },
   "file_extension": ".py",
   "mimetype": "text/x-python",
   "name": "python",
   "nbconvert_exporter": "python",
   "pygments_lexer": "ipython3",
   "version": "3.13.2"
  }
 },
 "nbformat": 4,
 "nbformat_minor": 5
}
