{
 "cells": [
  {
   "cell_type": "markdown",
   "metadata": {},
   "source": [
    "Importações Iniciais - Manejo do Dataframe e depois para treinar o modelo"
   ]
  },
  {
   "cell_type": "code",
   "execution_count": null,
   "metadata": {},
   "outputs": [],
   "source": [
    "import pandas as pd\n",
    "import numpy as np\n",
    "from features import create\n",
    "from datetime import datetime\n",
    "from features.required import REQUIRED_FEATURES"
   ]
  },
  {
   "cell_type": "code",
   "execution_count": null,
   "metadata": {},
   "outputs": [],
   "source": [
    "from model import calculate\n",
    "import matplotlib.pyplot as plt\n",
    "from xgboost import XGBRegressor, plot_importance\n",
    "from model.config import grid_search, random_search\n",
    "from sklearn.metrics import mean_absolute_error, mean_squared_error"
   ]
  },
  {
   "cell_type": "markdown",
   "metadata": {},
   "source": [
    "Pré-processamento inicial dos dados."
   ]
  },
  {
   "cell_type": "code",
   "execution_count": null,
   "metadata": {},
   "outputs": [],
   "source": [
    "df = pd.read_csv(r'training_testing/dados/dados_eventos.csv')\n",
    "df['date'] = pd.to_datetime(df['date'])\n",
    "df.drop_duplicates()\n",
    "df.sort_values(by='date')\n",
    "df.info()\n",
    "\n",
    "df = df.rename(columns= {\n",
    "    'jogador_casa': 'home_player',\n",
    "    'jogador_fora': 'away_player',\n",
    "    'time_casa': 'home_team',\n",
    "    'time_fora': 'away_team',\n",
    "    'gols_casa': 'home_score',\n",
    "    'gols_fora': 'away_score',\n",
    "    'gols_totais': 'total_score',})"
   ]
  },
  {
   "cell_type": "markdown",
   "metadata": {},
   "source": [
    "Divisão dos dados e criação das features separadamente\n"
   ]
  },
  {
   "cell_type": "code",
   "execution_count": null,
   "metadata": {},
   "outputs": [],
   "source": [
    "#Dividir em Treino, Teste e Validação\n",
    "\n",
    "train_size = int(0.6 * len(df))\n",
    "val_size = int(0.2 * len(df))\n",
    "\n",
    "train_df = df.iloc[:train_size]\n",
    "val_df = df.iloc[train_size:train_size + val_size]\n",
    "test_df = df.iloc[train_size + val_size:]"
   ]
  },
  {
   "cell_type": "code",
   "execution_count": null,
   "metadata": {},
   "outputs": [],
   "source": [
    "#Criar Features para cada um dos dados.\n",
    "#TODO: Normalizar?\n",
    "\n",
    "train_featured = create.features(\n",
    "    data=train_df,live=False\n",
    "    ).dropna()\n",
    "\n",
    "val_featured = create.features(\n",
    "    data=val_df, live=False, \n",
    "    lookback_data=train_df\n",
    "    ).dropna()\n",
    "\n",
    "test_featured = create.features(\n",
    "    data=test_df, live=False, \n",
    "    lookback_data=pd.concat(\n",
    "        [train_df, test_df])\n",
    "        ).dropna()"
   ]
  },
  {
   "cell_type": "code",
   "execution_count": null,
   "metadata": {},
   "outputs": [],
   "source": [
    "#Divisão dos dados em X e y\n",
    "\n",
    "train_X = train_featured[REQUIRED_FEATURES]\n",
    "train_y = train_featured['total_score']\n",
    "\n",
    "val_X = test_featured[REQUIRED_FEATURES]\n",
    "val_y = test_featured['total_score']\n",
    "\n",
    "test_X = val_featured[REQUIRED_FEATURES]\n",
    "test_y = val_featured['total_score']\n",
    "\n",
    "#Dividir a validação em dois blocos.\n",
    "\n",
    "val_X_1, val_X_2 = val_X[:len(val_X)//2], val_X[len(val_X)//2:]\n",
    "val_y_1, val_y_2 = val_y[:len(val_y)//2], val_y[len(val_y)//2:]\n",
    "\n",
    "final_train_X = pd.concat([train_X, val_X_1])\n",
    "final_train_y = pd.concat([train_y, val_y_1])\n"
   ]
  },
  {
   "cell_type": "code",
   "execution_count": null,
   "metadata": {},
   "outputs": [],
   "source": [
    "pesos_treinamento = np.linspace(0.5, 1, num=len(train_X))\n",
    "pesos_validacao = np.linspace(0.7, 1, num=len(val_X))"
   ]
  },
  {
   "cell_type": "markdown",
   "metadata": {},
   "source": [
    "Treinamento do Modelo baseado em Random Search"
   ]
  },
  {
   "cell_type": "code",
   "execution_count": null,
   "metadata": {},
   "outputs": [],
   "source": [
    "random_search.fit(\n",
    "    train_X, train_y,\n",
    "    sample_weight=pesos_treinamento,\n",
    "    eval_set=[(val_X_1, val_y_1)],\n",
    "    verbose=2\n",
    ")\n",
    "\n",
    "best_random_model = random_search.best_estimator_\n",
    "best_random_params = random_search.best_params_\n",
    "\n",
    "final_random_model = XGBRegressor(\n",
    "    **best_random_params,\n",
    "    objective='count:poisson',\n",
    "    eval_metric='poisson-nloglik',\n",
    "    tree_method='hist',\n",
    "    early_stopping_rounds=50,\n",
    "    random_state=42\n",
    ")\n",
    "\n",
    "final_random_model.fit(\n",
    "    final_train_X, final_train_y,\n",
    "    eval_set=[(val_X_2,val_y_2)],\n",
    "    verbose=10\n",
    ")\n",
    " \n",
    "test_pred_random_model = final_random_model.predict(test_X)\n",
    "\n",
    "print(60 * '-')\n",
    "print('Teste:')\n",
    "print(f\"MAE: {mean_absolute_error(test_y, test_pred_random_model):.4f}\")\n",
    "print(f\"RMSE: {np.sqrt(mean_squared_error(test_y, test_pred_random_model)):.4f}\")\n",
    "print(f\"Log Loss: {calculate.poisson_log_loss(test_y, test_pred_random_model):.4f}\")\n",
    "\n",
    "plot_importance(final_random_model)\n",
    "plt.show()"
   ]
  },
  {
   "cell_type": "code",
   "execution_count": null,
   "metadata": {},
   "outputs": [],
   "source": [
    "#Exportar modelo para arquivo xlsx.\n",
    "\n",
    "test_pred_df = pd.DataFrame(test_pred_random_model, columns=['prediction'])\n",
    "df_to_export = pd.concat([test_featured, test_pred_df], axis=1)\n",
    "df_to_export.to_excel(f'training_testing/dados/exports/final_random_df {datetime.now().strftime('%d-%m %H-%M')}.xlsx', index=False)\n"
   ]
  },
  {
   "cell_type": "markdown",
   "metadata": {},
   "source": [
    "Treinamento do Modelo baseado em Grid Search"
   ]
  },
  {
   "cell_type": "code",
   "execution_count": null,
   "metadata": {},
   "outputs": [],
   "source": [
    "grid_search.fit(train_X, train_y)\n",
    "\n",
    "best_grid_model = grid_search.best_estimator_\n",
    "best_grid_params = grid_search.best_params_\n",
    "\n",
    "final_grid_model = XGBRegressor(\n",
    "    **best_grid_params,\n",
    "    early_stopping_rounds=50,\n",
    "    objective='count:poisson',\n",
    "    eval_metric='poisson-nloglik'\n",
    "    )\n",
    "\n",
    "final_grid_model.fit(\n",
    "    final_train_X, final_train_y,\n",
    "    eval_set=[(val_X_2, val_y_2)],\n",
    "    verbose=10\n",
    ")\n",
    "\n",
    "test_pred_grid_model = final_grid_model.predict(test_X)\n",
    "\n",
    "\n",
    "print(60 * '-')\n",
    "print('Teste:')\n",
    "print(f\"MAE: {mean_absolute_error(test_y, test_pred_grid_model):.4f}\")\n",
    "print(f\"RMSE: {np.sqrt(mean_squared_error(test_y, test_pred_grid_model)):.4f}\")\n",
    "print(f\"Log Loss: {calculate.poisson_log_loss(test_y, test_pred_grid_model):.4f}\")\n",
    "\n",
    "plot_importance(final_grid_model)\n",
    "plt.show()\n"
   ]
  },
  {
   "cell_type": "code",
   "execution_count": null,
   "metadata": {},
   "outputs": [],
   "source": [
    "#Exportar modelo para arquivo xlsx.\n",
    "\n",
    "test_pred_df = pd.DataFrame(test_pred_grid_model, columns=['prediction'])\n",
    "df_to_export = pd.concat([test_featured, test_pred_df], axis=1)\n",
    "df_to_export.to_excel(f'training_testing/dados/exports/final_grid_df {datetime.now().strftime('%d-%m %H-%M')}.xlsx', index=False)"
   ]
  }
 ],
 "metadata": {
  "kernelspec": {
   "display_name": "Python 3",
   "language": "python",
   "name": "python3"
  },
  "language_info": {
   "codemirror_mode": {
    "name": "ipython",
    "version": 3
   },
   "file_extension": ".py",
   "mimetype": "text/x-python",
   "name": "python",
   "nbconvert_exporter": "python",
   "pygments_lexer": "ipython3",
   "version": "3.13.2"
  }
 },
 "nbformat": 4,
 "nbformat_minor": 2
}
